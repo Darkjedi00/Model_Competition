{
 "cells": [
  {
   "cell_type": "code",
   "execution_count": 1,
   "metadata": {},
   "outputs": [],
   "source": [
    "import os\n",
    "import json\n",
    "import pandas as pd"
   ]
  },
  {
   "cell_type": "markdown",
   "metadata": {},
   "source": [
    "### Data Cleaning"
   ]
  },
  {
   "cell_type": "markdown",
   "metadata": {},
   "source": [
    "Add premise to the context"
   ]
  },
  {
   "cell_type": "code",
   "execution_count": 2,
   "metadata": {},
   "outputs": [],
   "source": [
    "def transform_train_data(train_json_path, ct_json_folder):\n",
    "    # Load the train.json file\n",
    "    with open(train_json_path, 'r') as f:\n",
    "        train_data = json.load(f)\n",
    "\n",
    "    # Initialize lists to store the data\n",
    "    sample_ids = []\n",
    "    types = []\n",
    "    section_ids = []\n",
    "    primary_ids = []\n",
    "    secondary_ids = []\n",
    "    statements = []\n",
    "    labels = []\n",
    "    primary_evidence_indices = []\n",
    "    secondary_evidence_indices = []\n",
    "    primary_premises = []\n",
    "    secondary_premises = []\n",
    "\n",
    "    # Loop through the train.json data\n",
    "    for sample_id, value in train_data.items():\n",
    "        sample_ids.append(sample_id)  # Add sample ID\n",
    "        types.append(value['Type'])\n",
    "        section_ids.append(value['Section_id'])\n",
    "        primary_ids.append(value['Primary_id'])\n",
    "\n",
    "        # Check if 'Secondary_id' exists, otherwise use None\n",
    "        secondary_id = value.get('Secondary_id', None)\n",
    "        secondary_ids.append(secondary_id)\n",
    "\n",
    "        statements.append(value['Statement'])\n",
    "        labels.append(value['Label'])\n",
    "        primary_evidence_indices.append(value['Primary_evidence_index'])\n",
    "\n",
    "        # Check if 'Secondary_evidence_index' exists, otherwise use None\n",
    "        secondary_evidence_index = value.get('Secondary_evidence_index', None)\n",
    "        secondary_evidence_indices.append(secondary_evidence_index)\n",
    "\n",
    "        # Load the corresponding CT json file for the primary_id\n",
    "        ct_file_path_primary = os.path.join(ct_json_folder, f\"{value['Primary_id']}.json\")\n",
    "        if os.path.exists(ct_file_path_primary):\n",
    "            with open(ct_file_path_primary, 'r') as ct_file:\n",
    "                ct_data_primary = json.load(ct_file)\n",
    "                primary_premise = ct_data_primary.get(value['Section_id'], None)\n",
    "                primary_premises.append(primary_premise)\n",
    "        else:\n",
    "            primary_premises.append(None)\n",
    "\n",
    "        # Load the corresponding CT json file for the secondary_id if it exists\n",
    "        if secondary_id:\n",
    "            ct_file_path_secondary = os.path.join(ct_json_folder, f\"{secondary_id}.json\")\n",
    "            if os.path.exists(ct_file_path_secondary):\n",
    "                with open(ct_file_path_secondary, 'r') as ct_file:\n",
    "                    ct_data_secondary = json.load(ct_file)\n",
    "                    secondary_premise = ct_data_secondary.get(value['Section_id'], None)\n",
    "                    secondary_premises.append(secondary_premise)\n",
    "            else:\n",
    "                secondary_premises.append(None)\n",
    "        else:\n",
    "            secondary_premises.append(None)\n",
    "\n",
    "    # Create a dictionary where 'Sample_ID' is the key and other columns are values\n",
    "    result_dict = {\n",
    "        sample_id: {\n",
    "            'Type': types[i],\n",
    "            'Section_id': section_ids[i],\n",
    "            'Primary_id': primary_ids[i],\n",
    "            'Secondary_id': secondary_ids[i],\n",
    "            'Primary_premise': primary_premises[i],\n",
    "            'Secondary_premise': secondary_premises[i],\n",
    "            'Statement': statements[i],\n",
    "            'Label': labels[i],\n",
    "            'Primary_evidence_index': primary_evidence_indices[i],\n",
    "            'Secondary_evidence_index': secondary_evidence_indices[i]\n",
    "        }\n",
    "        for i, sample_id in enumerate(sample_ids)\n",
    "    }\n",
    "\n",
    "\n",
    "    return result_dict"
   ]
  },
  {
   "cell_type": "code",
   "execution_count": 3,
   "metadata": {},
   "outputs": [],
   "source": [
    "train_json_path = '/home/rambod/MyDocuments/Complete_dataset/train.json'\n",
    "ct_json_folder = '/home/rambod/MyDocuments/Complete_dataset/CT json'\n",
    "resulting_data = transform_train_data(train_json_path, ct_json_folder)"
   ]
  },
  {
   "cell_type": "markdown",
   "metadata": {},
   "source": [
    "Save the JSON file"
   ]
  },
  {
   "cell_type": "code",
   "execution_count": 4,
   "metadata": {},
   "outputs": [
    {
     "name": "stdout",
     "output_type": "stream",
     "text": [
      "JSON file 'data_with_premise.json' has been created.\n"
     ]
    }
   ],
   "source": [
    "# Save the dictionary as a JSON file\n",
    "with open('data_with_premise.json', 'w') as json_file:\n",
    "    json.dump(resulting_data, json_file, indent=4)\n",
    "\n",
    "# Print a message indicating the JSON file has been saved\n",
    "print(\"JSON file 'data_with_premise.json' has been created.\")"
   ]
  },
  {
   "cell_type": "markdown",
   "metadata": {},
   "source": [
    "Add special tokens to the Primary_premise, Secondary_premise and Statement"
   ]
  },
  {
   "cell_type": "code",
   "execution_count": 5,
   "metadata": {},
   "outputs": [],
   "source": [
    "def add_special_tokens(input_file, output_file):\n",
    "    # Load the JSON data from the input file\n",
    "    with open(input_file, 'r') as json_file:\n",
    "        data = json.load(json_file)\n",
    "\n",
    "    # Define the special tokens\n",
    "    primary_token_start = \"<primary_text>\"\n",
    "    primary_token_end = \"</primary_text>\"\n",
    "    secondary_token_start = \"<secondary_text>\"\n",
    "    secondary_token_end = \"</secondary_text>\"\n",
    "    statement_token_start = \"<statement_text>\"\n",
    "    statement_token_end = \"</statement_text>\"\n",
    "\n",
    "    # Add special tokens to columns\n",
    "    for key, value in data.items():\n",
    "        if 'Primary_premise' in value:\n",
    "            primary_premise = value['Primary_premise']\n",
    "            if primary_premise is not None:\n",
    "                value['Primary_premise'] = primary_token_start + ' '.join(primary_premise) + primary_token_end\n",
    "\n",
    "        if 'Secondary_premise' in value:\n",
    "            secondary_premise = value['Secondary_premise']\n",
    "            if secondary_premise is not None:\n",
    "                value['Secondary_premise'] = secondary_token_start + ' '.join(secondary_premise) + secondary_token_end\n",
    "\n",
    "        if 'Statement' in value:\n",
    "            statement = value['Statement']\n",
    "            if statement is not None:\n",
    "                value['Statement'] = statement_token_start + statement + statement_token_end\n",
    "\n",
    "    # Save the modified data back to the output JSON file\n",
    "    with open(output_file, 'w') as json_file:\n",
    "        json.dump(data, json_file, indent=4)\n",
    "\n",
    "    print(f\"Modified JSON file '{output_file}' has been created.\")"
   ]
  },
  {
   "cell_type": "markdown",
   "metadata": {},
   "source": [
    "Save JSON file with special tokens"
   ]
  },
  {
   "cell_type": "code",
   "execution_count": 6,
   "metadata": {},
   "outputs": [
    {
     "name": "stdout",
     "output_type": "stream",
     "text": [
      "Modified JSON file '/home/rambod/T5Model/data_with_special_tokens.json' has been created.\n"
     ]
    }
   ],
   "source": [
    "input_path = \"/home/rambod/T5Model/data_with_premise.json\"\n",
    "output_path = \"/home/rambod/T5Model/data_with_special_tokens.json\"\n",
    "add_special_tokens(input_path, output_path)"
   ]
  },
  {
   "cell_type": "markdown",
   "metadata": {},
   "source": [
    "Add \"context\" column"
   ]
  },
  {
   "cell_type": "code",
   "execution_count": 7,
   "metadata": {},
   "outputs": [],
   "source": [
    "def add_context_column(input_file_path, output_file_path):\n",
    "    # Read the input JSON file\n",
    "    with open(input_file_path, 'r') as json_file:\n",
    "        data = json.load(json_file)\n",
    "\n",
    "    # Iterate through each item in the JSON\n",
    "    for key, value in data.items():\n",
    "        # Check if \"Secondary_premise\" is present and not None\n",
    "        if 'Secondary_premise' in value and value['Secondary_premise'] is not None:\n",
    "            # Concatenate \"Primary_premise,\" \"Secondary_premise,\" and \"Statement\"\n",
    "            context = value['Primary_premise'] + value['Secondary_premise'] + value['Statement']\n",
    "        else:\n",
    "            # If \"Secondary_premise\" is None, use only \"Primary_premise\" and \"Statement\"\n",
    "            context = value['Primary_premise'] + value['Statement']\n",
    "\n",
    "        # Add the \"Context\" column to the JSON data\n",
    "        value['Context'] = context\n",
    "\n",
    "    # Save the updated JSON data back to the output file\n",
    "    with open(output_file_path, 'w') as json_file:\n",
    "        json.dump(data, json_file, indent=4)"
   ]
  },
  {
   "cell_type": "markdown",
   "metadata": {},
   "source": [
    "Save JSON file with context"
   ]
  },
  {
   "cell_type": "code",
   "execution_count": 8,
   "metadata": {},
   "outputs": [],
   "source": [
    "input_file_path = '/home/rambod/T5Model/data_with_special_tokens.json'\n",
    "output_file_path = '/home/rambod/T5Model/data_with_context.json'\n",
    "add_context_column(input_file_path, output_file_path)"
   ]
  }
 ],
 "metadata": {
  "kernelspec": {
   "display_name": "myenv",
   "language": "python",
   "name": "python3"
  },
  "language_info": {
   "codemirror_mode": {
    "name": "ipython",
    "version": 3
   },
   "file_extension": ".py",
   "mimetype": "text/x-python",
   "name": "python",
   "nbconvert_exporter": "python",
   "pygments_lexer": "ipython3",
   "version": "3.11.5"
  },
  "orig_nbformat": 4
 },
 "nbformat": 4,
 "nbformat_minor": 2
}
